{
 "cells": [
  {
   "cell_type": "code",
   "execution_count": 2,
   "id": "e1dba3a2-2d8a-457f-9d81-b935feab9ee5",
   "metadata": {},
   "outputs": [],
   "source": [
    "from helpers.prompt_template import PromptTemplate as PT"
   ]
  },
  {
   "cell_type": "code",
   "execution_count": 3,
   "id": "af458f94-d3a1-4d27-ad71-d00bdd09ecf2",
   "metadata": {},
   "outputs": [],
   "source": [
    "pt = PT(system_prompt=\"You are a talking car who loves driving in the mountains.\")"
   ]
  },
  {
   "cell_type": "code",
   "execution_count": 4,
   "id": "ecf37928-f18b-483d-b19c-95eacaed9daf",
   "metadata": {},
   "outputs": [
    {
     "data": {
      "text/plain": [
       "'<s>[INST] <<SYS>>\\nYou are a talking car who loves driving in the mountains.\\n<</SYS>>[INST] Hello! Who are you? [/INST]'"
      ]
     },
     "execution_count": 4,
     "metadata": {},
     "output_type": "execute_result"
    }
   ],
   "source": [
    "pt.add_user_message(\"Hello! Who are you?\")"
   ]
  },
  {
   "cell_type": "code",
   "execution_count": 5,
   "id": "6948c298-a785-46ad-b176-239de4893572",
   "metadata": {},
   "outputs": [],
   "source": [
    "prompt = pt.build_prompt()"
   ]
  },
  {
   "cell_type": "code",
   "execution_count": 6,
   "id": "4d7ba804-f824-432e-a888-f042f32a856e",
   "metadata": {},
   "outputs": [
    {
     "data": {
      "text/plain": [
       "'<s>[INST] <<SYS>>\\nYou are a talking car who loves driving in the mountains.\\n<</SYS>>[INST] Hello! Who are you? [/INST]'"
      ]
     },
     "execution_count": 6,
     "metadata": {},
     "output_type": "execute_result"
    }
   ],
   "source": [
    "prompt"
   ]
  },
  {
   "cell_type": "code",
   "execution_count": 8,
   "id": "083dcce1-4c21-496f-ae97-d47d7ec9aba6",
   "metadata": {},
   "outputs": [
    {
     "data": {
      "text/plain": [
       "['Hello! Who are you?']"
      ]
     },
     "execution_count": 8,
     "metadata": {},
     "output_type": "execute_result"
    }
   ],
   "source": [
    "pt.get_user_messages(strip=True)"
   ]
  }
 ],
 "metadata": {
  "kernelspec": {
   "display_name": "Python 3 (ipykernel)",
   "language": "python",
   "name": "python3"
  },
  "language_info": {
   "codemirror_mode": {
    "name": "ipython",
    "version": 3
   },
   "file_extension": ".py",
   "mimetype": "text/x-python",
   "name": "python",
   "nbconvert_exporter": "python",
   "pygments_lexer": "ipython3",
   "version": "3.8.0"
  }
 },
 "nbformat": 4,
 "nbformat_minor": 5
}
