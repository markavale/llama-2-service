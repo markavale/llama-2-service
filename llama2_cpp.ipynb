{
 "cells": [
  {
   "cell_type": "code",
   "execution_count": 1,
   "id": "74bb8b3e-304f-41d4-976d-afad452e11d6",
   "metadata": {},
   "outputs": [],
   "source": [
    "from llama_cpp import Llama \n",
    "import time"
   ]
  },
  {
   "cell_type": "code",
   "execution_count": 2,
   "id": "fe61d4fc-3010-4a79-8233-4178b598afbd",
   "metadata": {},
   "outputs": [
    {
     "name": "stderr",
     "output_type": "stream",
     "text": [
      "llama.cpp: loading model from /mnt/model/llama2_base/llama-2-7b-chat.ggmlv3.q2_K.bin\n",
      "llama_model_load_internal: format     = ggjt v3 (latest)\n",
      "llama_model_load_internal: n_vocab    = 32000\n",
      "llama_model_load_internal: n_ctx      = 1024\n",
      "llama_model_load_internal: n_embd     = 4096\n",
      "llama_model_load_internal: n_mult     = 256\n",
      "llama_model_load_internal: n_head     = 32\n",
      "llama_model_load_internal: n_head_kv  = 32\n",
      "llama_model_load_internal: n_layer    = 32\n",
      "llama_model_load_internal: n_rot      = 128\n",
      "llama_model_load_internal: n_gqa      = 1\n",
      "llama_model_load_internal: rnorm_eps  = 5.0e-06\n",
      "llama_model_load_internal: n_ff       = 11008\n",
      "llama_model_load_internal: freq_base  = 10000.0\n",
      "llama_model_load_internal: freq_scale = 1\n",
      "llama_model_load_internal: ftype      = 10 (mostly Q2_K)\n",
      "llama_model_load_internal: model size = 7B\n",
      "llama_model_load_internal: ggml ctx size =    0.08 MB\n",
      "llama_model_load_internal: mem required  = 2733.66 MB (+  512.00 MB per state)\n",
      "llama_new_context_with_model: kv self size  =  512.00 MB\n",
      "AVX = 1 | AVX2 = 1 | AVX512 = 1 | AVX512_VBMI = 1 | AVX512_VNNI = 1 | FMA = 1 | NEON = 0 | ARM_FMA = 0 | F16C = 1 | FP16_VA = 0 | WASM_SIMD = 0 | BLAS = 0 | SSE3 = 1 | VSX = 0 | \n",
      "llama_new_context_with_model: compute buffer total size =   89.35 MB\n"
     ]
    }
   ],
   "source": [
    "# Load Llama 2 model\n",
    "llm = Llama(model_path=\"/mnt/model/llama2_base/llama-2-7b-chat.ggmlv3.q2_K.bin\",\n",
    "            n_ctx=1024,\n",
    "            n_batch=128)\n"
   ]
  },
  {
   "cell_type": "code",
   "execution_count": 3,
   "id": "942c2ed6-4323-4c83-95a1-16c65c6fa926",
   "metadata": {},
   "outputs": [],
   "source": [
    "prompt = \"Who is the current president of the Philippines?\""
   ]
  },
  {
   "cell_type": "code",
   "execution_count": 4,
   "id": "24dc7b3a-d9ef-4325-9c8d-c921e77eee05",
   "metadata": {},
   "outputs": [
    {
     "name": "stdout",
     "output_type": "stream",
     "text": [
      "<class 'dict'>\n",
      "{'id': 'cmpl-0837e350-3305-47b1-aed1-59ba263cbc8a', 'object': 'text_completion', 'created': 1693272816, 'model': '/mnt/model/llama2_base/llama-2-7b-chat.ggmlv3.q2_K.bin', 'choices': [{'text': 'Who is the current president of the Philippines?\\n\\nThe current president of the Philippines is Rodrigo Duterte. He was inaugurated as the 17th President of the Philippines on June 30, 2016, and his term ended on June 30, 2028.', 'index': 0, 'logprobs': None, 'finish_reason': 'stop'}], 'usage': {'prompt_tokens': 10, 'completion_tokens': 58, 'total_tokens': 68}}\n"
     ]
    },
    {
     "name": "stderr",
     "output_type": "stream",
     "text": [
      "\n",
      "llama_print_timings:        load time =   271.83 ms\n",
      "llama_print_timings:      sample time =    21.55 ms /    59 runs   (    0.37 ms per token,  2738.20 tokens per second)\n",
      "llama_print_timings: prompt eval time =   271.81 ms /    10 tokens (   27.18 ms per token,    36.79 tokens per second)\n",
      "llama_print_timings:        eval time =  4841.13 ms /    58 runs   (   83.47 ms per token,    11.98 tokens per second)\n",
      "llama_print_timings:       total time =  5209.62 ms\n"
     ]
    }
   ],
   "source": [
    "t1 = time.perf_counter()\n",
    "output = llm(prompt,\n",
    "             max_tokens=-1,\n",
    "             echo=True,\n",
    "             temperature=0.7,\n",
    "             top_p=0.9)\n",
    "print(type(output))\n",
    "print(output)\n",
    "t2 = round(time.perf_counter() - t1, 2)"
   ]
  },
  {
   "cell_type": "code",
   "execution_count": 10,
   "id": "f4cdc2d8-847e-4826-a71d-8126b3d0b3c0",
   "metadata": {},
   "outputs": [
    {
     "data": {
      "text/plain": [
       "{'id': 'cmpl-53052b72-f431-42de-a713-f3942da48274',\n",
       " 'object': 'text_completion',\n",
       " 'created': 1692856281,\n",
       " 'model': '/mnt/model/llama2_base/llama-2-7b-chat.ggmlv3.q2_K.bin',\n",
       " 'choices': [{'text': '\\n\\nThe current president of the Philippines is Rodrigo Duterte. He was inaugurated as the 17th President of the Philippines on June 30, 2016, and his term is set to end on June 30, 2028. Prior to his presidency, he served as the Mayor of Davao City from 1984 to \\x0c2016.',\n",
       "   'index': 0,\n",
       "   'logprobs': None,\n",
       "   'finish_reason': 'stop'}],\n",
       " 'usage': {'prompt_tokens': 10, 'completion_tokens': 91, 'total_tokens': 101}}"
      ]
     },
     "execution_count": 10,
     "metadata": {},
     "output_type": "execute_result"
    }
   ],
   "source": [
    "output"
   ]
  },
  {
   "cell_type": "code",
   "execution_count": 11,
   "id": "905cc610-6317-4be9-a10f-dd22a143a843",
   "metadata": {},
   "outputs": [
    {
     "data": {
      "text/plain": [
       "7.92"
      ]
     },
     "execution_count": 11,
     "metadata": {},
     "output_type": "execute_result"
    }
   ],
   "source": [
    "t2"
   ]
  }
 ],
 "metadata": {
  "kernelspec": {
   "display_name": "Python 3 (ipykernel)",
   "language": "python",
   "name": "python3"
  },
  "language_info": {
   "codemirror_mode": {
    "name": "ipython",
    "version": 3
   },
   "file_extension": ".py",
   "mimetype": "text/x-python",
   "name": "python",
   "nbconvert_exporter": "python",
   "pygments_lexer": "ipython3",
   "version": "3.8.0"
  }
 },
 "nbformat": 4,
 "nbformat_minor": 5
}
